{
 "cells": [
  {
   "cell_type": "markdown",
   "metadata": {},
   "source": [
    "# Homework and bake-off: Relation extraction using distant supervision"
   ]
  },
  {
   "cell_type": "code",
   "execution_count": null,
   "metadata": {},
   "outputs": [],
   "source": [
    "__author__ = \"Bill MacCartney and Christopher Potts\"\n",
    "__version__ = \"CS224u, Stanford, Spring 2020\""
   ]
  },
  {
   "cell_type": "markdown",
   "metadata": {},
   "source": [
    "## Contents\n",
    "\n",
    "1. [Overview](#Overview)\n",
    "1. [Set-up](#Set-up)\n",
    "1. [Baseline](#Baseline)\n",
    "1. [Homework questions](#Homework-questions)\n",
    "  1. [Different model factory [1 points]](#Different-model-factory-[1-points])\n",
    "  1. [Directional unigram features [1.5 points]](#Directional-unigram-features-[1.5-points])\n",
    "  1. [The part-of-speech tags of the \"middle\" words [1.5 points]](#The-part-of-speech-tags-of-the-\"middle\"-words-[1.5-points])\n",
    "  1. [Bag of Synsets [2 points]](#Bag-of-Synsets-[2-points])\n",
    "  1. [Your original system [3 points]](#Your-original-system-[3-points])\n",
    "1. [Bake-off [1 point]](#Bake-off-[1-point])"
   ]
  },
  {
   "cell_type": "markdown",
   "metadata": {},
   "source": [
    "## Overview\n",
    "\n",
    "This homework and associated bake-off are devoted to the developing really effective relation extraction systems using distant supervision. \n",
    "\n",
    "As with the previous assignments, this notebook first establishes a baseline system. The initial homework questions ask you to create additional baselines and suggest areas for innovation, and the final homework question asks you to develop an original system for you to enter into the bake-off."
   ]
  },
  {
   "cell_type": "markdown",
   "metadata": {},
   "source": [
    "## Set-up\n",
    "\n",
    "See [the first notebook in this unit](rel_ext_01_task.ipynb#Set-up) for set-up instructions."
   ]
  },
  {
   "cell_type": "code",
   "execution_count": 1,
   "metadata": {},
   "outputs": [],
   "source": [
    "import os\n",
    "import rel_ext\n",
    "from sklearn.linear_model import LogisticRegression"
   ]
  },
  {
   "cell_type": "markdown",
   "metadata": {},
   "source": [
    "As usual, we unite our corpus and KB into a dataset, and create some splits for experimentation:"
   ]
  },
  {
   "cell_type": "code",
   "execution_count": 2,
   "metadata": {},
   "outputs": [],
   "source": [
    "rel_ext_data_home = os.path.join('data', 'rel_ext_data')"
   ]
  },
  {
   "cell_type": "code",
   "execution_count": 3,
   "metadata": {},
   "outputs": [],
   "source": [
    "corpus = rel_ext.Corpus(os.path.join(rel_ext_data_home, 'corpus.tsv.gz'))"
   ]
  },
  {
   "cell_type": "code",
   "execution_count": 4,
   "metadata": {},
   "outputs": [],
   "source": [
    "kb = rel_ext.KB(os.path.join(rel_ext_data_home, 'kb.tsv.gz'))"
   ]
  },
  {
   "cell_type": "code",
   "execution_count": 5,
   "metadata": {},
   "outputs": [],
   "source": [
    "dataset = rel_ext.Dataset(corpus, kb)"
   ]
  },
  {
   "cell_type": "markdown",
   "metadata": {},
   "source": [
    "You are not wedded to this set-up for splits. The bake-off will be conducted on a previously unseen test-set, so all of the data in `dataset` is fair game:"
   ]
  },
  {
   "cell_type": "code",
   "execution_count": 6,
   "metadata": {},
   "outputs": [],
   "source": [
    "splits = dataset.build_splits(\n",
    "    split_names=['tiny', 'train', 'dev'],\n",
    "    split_fracs=[0.01, 0.79, 0.20],\n",
    "    seed=1)"
   ]
  },
  {
   "cell_type": "code",
   "execution_count": 7,
   "metadata": {},
   "outputs": [
    {
     "data": {
      "text/plain": "{'tiny': Corpus with 3,474 examples; KB with 445 triples,\n 'train': Corpus with 263,285 examples; KB with 36,191 triples,\n 'dev': Corpus with 64,937 examples; KB with 9,248 triples,\n 'all': Corpus with 331,696 examples; KB with 45,884 triples}"
     },
     "execution_count": 7,
     "metadata": {},
     "output_type": "execute_result"
    }
   ],
   "source": [
    "splits"
   ]
  },
  {
   "cell_type": "markdown",
   "metadata": {},
   "source": [
    "## Baseline"
   ]
  },
  {
   "cell_type": "code",
   "execution_count": 8,
   "metadata": {},
   "outputs": [],
   "source": [
    "def simple_bag_of_words_featurizer(kbt, corpus, feature_counter):\n",
    "    for ex in corpus.get_examples_for_entities(kbt.sbj, kbt.obj):\n",
    "        for word in ex.middle.split(' '):\n",
    "            feature_counter[word] += 1\n",
    "    for ex in corpus.get_examples_for_entities(kbt.obj, kbt.sbj):\n",
    "        for word in ex.middle.split(' '):\n",
    "            feature_counter[word] += 1\n",
    "    return feature_counter"
   ]
  },
  {
   "cell_type": "code",
   "execution_count": 9,
   "metadata": {},
   "outputs": [],
   "source": [
    "featurizers = [simple_bag_of_words_featurizer]"
   ]
  },
  {
   "cell_type": "code",
   "execution_count": 10,
   "metadata": {},
   "outputs": [],
   "source": [
    "model_factory = lambda: LogisticRegression(fit_intercept=True, solver='liblinear')"
   ]
  },
  {
   "cell_type": "code",
   "execution_count": 11,
   "metadata": {},
   "outputs": [
    {
     "name": "stdout",
     "output_type": "stream",
     "text": "relation              precision     recall    f-score    support       size\n------------------    ---------  ---------  ---------  ---------  ---------\nadjoins                   0.866      0.379      0.689        340       5716\nauthor                    0.799      0.532      0.727        509       5885\ncapital                   0.552      0.168      0.379         95       5471\ncontains                  0.792      0.603      0.745       3904       9280\nfilm_performance          0.788      0.567      0.731        766       6142\nfounders                  0.797      0.392      0.660        380       5756\ngenre                     0.718      0.165      0.429        170       5546\nhas_sibling               0.854      0.246      0.572        499       5875\nhas_spouse                0.892      0.320      0.657        594       5970\nis_a                      0.684      0.209      0.471        497       5873\nnationality               0.659      0.179      0.429        301       5677\nparents                   0.886      0.548      0.789        312       5688\nplace_of_birth            0.694      0.215      0.480        233       5609\nplace_of_death            0.516      0.101      0.283        159       5535\nprofession                0.556      0.182      0.394        247       5623\nworked_at                 0.721      0.256      0.529        242       5618\n------------------    ---------  ---------  ---------  ---------  ---------\nmacro-average             0.736      0.316      0.560       9248      95264\n"
    }
   ],
   "source": [
    "baseline_results = rel_ext.experiment(\n",
    "    splits,\n",
    "    train_split='train',\n",
    "    test_split='dev',\n",
    "    featurizers=featurizers,\n",
    "    model_factory=model_factory,\n",
    "    verbose=True)"
   ]
  },
  {
   "cell_type": "markdown",
   "metadata": {},
   "source": [
    "Studying model weights might yield insights:"
   ]
  },
  {
   "cell_type": "code",
   "execution_count": 12,
   "metadata": {},
   "outputs": [
    {
     "name": "stdout",
     "output_type": "stream",
     "text": "Highest and lowest feature weights for relation adjoins:\n\n     2.563 Córdoba\n     2.385 Taluks\n     2.278 Valais\n     ..... .....\n    -1.073 other\n    -1.272 America\n    -1.494 capital\n\nHighest and lowest feature weights for relation author:\n\n     2.721 author\n     2.590 wrote\n     2.278 play\n     ..... .....\n    -2.434 1997\n    -2.746 infamous\n    -3.666 1945\n\nHighest and lowest feature weights for relation capital:\n\n     2.622 capital\n     1.836 km\n     1.813 especially\n     ..... .....\n    -1.679 Westminster\n    -2.080 Isfahan\n    -2.088 Province\n\nHighest and lowest feature weights for relation contains:\n\n     2.607 bordered\n     2.188 third-largest\n     2.030 attended\n     ..... .....\n    -2.366 film\n    -2.735 Mile\n    -3.696 Antrim\n\nHighest and lowest feature weights for relation film_performance:\n\n     4.317 starring\n     3.801 alongside\n     3.483 co-starring\n     ..... .....\n    -1.999 Westminster\n    -2.027 spy\n    -2.154 Iruvar\n\nHighest and lowest feature weights for relation founders:\n\n     3.782 founded\n     3.765 founder\n     3.623 co-founder\n     ..... .....\n    -1.638 kingdom\n    -1.719 philosopher\n    -1.999 band\n\nHighest and lowest feature weights for relation genre:\n\n     2.994 \n     2.894 series\n     2.887 album\n     ..... .....\n    -1.437 ;\n    -1.712 his\n    -2.023 at\n\nHighest and lowest feature weights for relation has_sibling:\n\n     5.355 brother\n     4.314 sister\n     2.771 nephew\n     ..... .....\n    -1.291 II\n    -1.303 from\n    -1.762 singer-songwriter\n\nHighest and lowest feature weights for relation has_spouse:\n\n     5.084 wife\n     4.458 widow\n     4.254 married\n     ..... .....\n    -1.270 Swizz\n    -1.324 reported\n    -1.986 unfaithful\n\nHighest and lowest feature weights for relation is_a:\n\n     3.445 \n     2.535 order\n     2.432 sport\n     ..... .....\n    -1.775 Corvus\n    -1.818 birds\n    -5.566 characin\n\nHighest and lowest feature weights for relation nationality:\n\n     2.891 born\n     1.919 becomes\n     1.886 Pinky\n     ..... .....\n    -1.721 U.S.\n    -1.748 American\n    -1.834 state\n\nHighest and lowest feature weights for relation parents:\n\n     4.860 son\n     4.647 daughter\n     4.294 father\n     ..... .....\n    -1.625 Tina\n    -1.958 played\n    -2.932 Indian\n\nHighest and lowest feature weights for relation place_of_birth:\n\n     4.097 born\n     2.933 birthplace\n     2.122 b\n     ..... .....\n    -1.583 Westminster\n    -1.659 state\n    -1.882 Indian\n\nHighest and lowest feature weights for relation place_of_death:\n\n     2.340 died\n     1.870 saw\n     1.864 rebuilt\n     ..... .....\n    -1.248 and\n    -1.260 state\n    -1.952 Westminster\n\nHighest and lowest feature weights for relation profession:\n\n     3.956 \n     2.454 American\n     2.315 philosopher\n     ..... .....\n    -1.185 in\n    -1.372 York\n    -2.084 on\n\nHighest and lowest feature weights for relation worked_at:\n\n     3.164 professor\n     3.043 CEO\n     2.900 president\n     ..... .....\n    -1.183 critique\n    -1.754 or\n    -1.793 state\n\n"
    }
   ],
   "source": [
    "rel_ext.examine_model_weights(baseline_results)"
   ]
  },
  {
   "cell_type": "markdown",
   "metadata": {},
   "source": [
    "## Homework questions\n",
    "\n",
    "Please embed your homework responses in this notebook, and do not delete any cells from the notebook. (You are free to add as many cells as you like as part of your responses.)"
   ]
  },
  {
   "cell_type": "markdown",
   "metadata": {},
   "source": [
    "### Different model factory [1 points]\n",
    "\n",
    "The code in `rel_ext` makes it very easy to experiment with other classifier models: one need only redefine the `model_factory` argument. This question asks you to assess a [Support Vector Classifier](https://scikit-learn.org/stable/modules/generated/sklearn.svm.SVC.html).\n",
    "\n",
    "__To submit:__ A call to `rel_ext.experiment` training on the 'train' part of `splits` and assessing on its `dev` part, with `featurizers` as defined above in this notebook and the `model_factory` set to one based in an `SVC` with `kernel='linear'` and all other arguments left with default values."
   ]
  },
  {
   "cell_type": "code",
   "execution_count": 17,
   "metadata": {},
   "outputs": [
    {
     "name": "stdout",
     "output_type": "stream",
     "text": "relation              precision     recall    f-score    support       size\n------------------    ---------  ---------  ---------  ---------  ---------\nadjoins                   0.821      0.350      0.647        340       5716\nauthor                    0.732      0.613      0.705        509       5885\ncapital                   0.629      0.232      0.468         95       5471\ncontains                  0.775      0.611      0.735       3904       9280\nfilm_performance          0.757      0.625      0.726        766       6142\nfounders                  0.671      0.429      0.603        380       5756\ngenre                     0.603      0.276      0.488        170       5546\nhas_sibling               0.731      0.257      0.534        499       5875\nhas_spouse                0.842      0.342      0.651        594       5970\nis_a                      0.622      0.262      0.488        497       5873\nnationality               0.500      0.196      0.382        301       5677\nparents                   0.802      0.583      0.746        312       5688\nplace_of_birth            0.598      0.210      0.437        233       5609\nplace_of_death            0.385      0.094      0.238        159       5535\nprofession                0.583      0.243      0.455        247       5623\nworked_at                 0.667      0.314      0.544        242       5618\n------------------    ---------  ---------  ---------  ---------  ---------\nmacro-average             0.670      0.352      0.553       9248      95264\n"
    }
   ],
   "source": [
    "##### YOUR CODE HERE\n",
    "from sklearn.svm import SVC\n",
    "svm_results = rel_ext.experiment(\n",
    "    splits,\n",
    "    train_split='train',\n",
    "    test_split='dev',\n",
    "    featurizers=featurizers,\n",
    "    model_factory=lambda: SVC(gamma='scale', kernel='linear'),\n",
    "    verbose=True)\n"
   ]
  },
  {
   "cell_type": "code",
   "execution_count": 18,
   "metadata": {},
   "outputs": [
    {
     "name": "stdout",
     "output_type": "stream",
     "text": "Highest and lowest feature weights for relation adjoins:\n\n     2.073 Córdoba\n     2.000 outwith\n     2.000 Tehama\n     ..... .....\n    -1.000 Sichuan\n    -1.000 Picasso\n    -1.000 Czechoslovakia\n\nHighest and lowest feature weights for relation author:\n\n     2.110 coauthored\n     1.745 commentaries\n     1.665 author\n     ..... .....\n    -2.000 1890\n    -2.298 chapter\n    -2.689 1945\n\nHighest and lowest feature weights for relation capital:\n\n     1.603 posted\n     1.289 capitals\n     1.277 allies\n     ..... .....\n    -1.129 Province\n    -1.244 ’\n    -1.272 Isfahan\n\nHighest and lowest feature weights for relation contains:\n\n     2.000 bordered\n     1.976 Tehran\n     1.939 Owned\n     ..... .....\n    -2.579 Mile\n    -2.698 Isfahan\n    -3.725 Antrim\n\nHighest and lowest feature weights for relation film_performance:\n\n     2.222 starring\n     2.114 vehicle\n     2.041 co-starring\n     ..... .....\n    -2.000 Wes\n    -2.000 Haunted\n    -2.000 Children\n\nHighest and lowest feature weights for relation founders:\n\n     2.072 co-founder\n     2.018 founded\n     2.008 founder\n     ..... .....\n    -1.950 1987\n    -2.000 philosopher\n    -2.000 kingdom\n\nHighest and lowest feature weights for relation genre:\n\n     1.456 titled\n     1.366 morphed\n     1.307 side-scrolling\n     ..... .....\n    -1.000 Xeno\n    -1.283 his\n    -1.303 anthology\n\nHighest and lowest feature weights for relation has_sibling:\n\n     2.376 1846\n     2.267 brother\n     2.145 sister\n     ..... .....\n    -1.110 st\n    -1.898 singer-songwriter\n    -2.000 1870-1957\n\nHighest and lowest feature weights for relation has_spouse:\n\n     2.143 wife\n     2.143 widow\n     2.138 ex-wife\n     ..... .....\n    -1.103 author\n    -1.324 model\n    -2.000 unfaithful\n\nHighest and lowest feature weights for relation is_a:\n\n     2.015 feminist\n     1.984 best-known\n     1.962 \n     ..... .....\n    -1.861 nightshade\n    -1.889 mostly\n    -4.026 characin\n\nHighest and lowest feature weights for relation nationality:\n\n     1.770 architects\n     1.760 sultan\n     1.555 caliph\n     ..... .....\n    -1.109 American\n    -1.184 surprised\n    -1.406 production\n\nHighest and lowest feature weights for relation parents:\n\n     2.043 son\n     2.043 daughter\n     2.003 father\n     ..... .....\n    -1.885 played\n    -1.885 Tina\n    -2.099 Indian\n\nHighest and lowest feature weights for relation place_of_birth:\n\n     1.921 born\n     1.816 birthplace\n     1.707 b\n     ..... .....\n    -1.145 8\n    -1.214 English\n    -1.252 work\n\nHighest and lowest feature weights for relation place_of_death:\n\n     1.935 cathedral\n     1.643 princely\n     1.554 hostages\n     ..... .....\n    -0.921 Hunnic\n    -1.059 later\n    -1.252 Westminster\n\nHighest and lowest feature weights for relation profession:\n\n     2.033 feminist\n     2.000 best-known\n     2.000 astrologer\n     ..... .....\n    -1.000 1886\n    -1.002 vocals\n    -1.248 on\n\nHighest and lowest feature weights for relation worked_at:\n\n     2.002 Co-Founder\n     1.861 superstar\n     1.789 professor\n     ..... .....\n    -1.114 visiting\n    -1.157 Egyptian\n    -1.454 kingdom\n\n"
    }
   ],
   "source": [
    "rel_ext.examine_model_weights(svm_results)"
   ]
  },
  {
   "cell_type": "markdown",
   "metadata": {},
   "source": [
    "### Directional unigram features [1.5 points]\n",
    "\n",
    "The current bag-of-words representation makes no distinction between \"forward\" and \"reverse\" examples. But, intuitively, there is big difference between _X and his son Y_ and _Y and his son X_. This question asks you to modify `simple_bag_of_words_featurizer` to capture these differences. \n",
    "\n",
    "__To submit:__\n",
    "\n",
    "1. A feature function `directional_bag_of_words_featurizer` that is just like `simple_bag_of_words_featurizer` except that it distinguishes \"forward\" and \"reverse\". To do this, you just need to mark each word feature for whether it is derived from a subject–object example or from an object–subject example.  The included function `test_directional_bag_of_words_featurizer` should help verify that you've done this correctly.\n",
    "\n",
    "2. A call to `rel_ext.experiment` with `directional_bag_of_words_featurizer` as the only featurizer. (Aside from this, use all the default values for `rel_ext.experiment` as exemplified above in this notebook.)\n",
    "\n",
    "3. `rel_ext.experiment` returns some of the core objects used in the experiment. How many feature names does the `vectorizer` have for the experiment run in the previous step? Include the code needed for getting this value. (Note: we're partly asking you to figure out how to get this value by using the sklearn documentation, so please don't ask how to do it!)"
   ]
  },
  {
   "cell_type": "code",
   "execution_count": 11,
   "metadata": {},
   "outputs": [],
   "source": [
    "def directional_bag_of_words_featurizer(kbt, corpus, feature_counter): \n",
    "    # Append these to the end of the keys you add/access in \n",
    "    # `feature_counter` to distinguish the two orders. You'll\n",
    "    # need to use exactly these strings in order to pass \n",
    "    # `test_directional_bag_of_words_featurizer`.\n",
    "    subject_object_suffix = \"_SO\"\n",
    "    object_subject_suffix = \"_OS\"\n",
    "    ##### YOUR CODE HERE\n",
    "    for ex in corpus.get_examples_for_entities(kbt.sbj, kbt.obj):\n",
    "        for word in ex.middle.split(' '):\n",
    "            feature_counter[word + subject_object_suffix] += 1\n",
    "    for ex in corpus.get_examples_for_entities(kbt.obj, kbt.sbj):\n",
    "        for word in ex.middle.split(' '):\n",
    "            feature_counter[word + object_subject_suffix] += 1\n",
    "    return feature_counter\n",
    "\n",
    "# Call to `rel_ext.experiment`:\n",
    "##### YOUR CODE HERE    \n",
    "directionalbow_results = rel_ext.experiment(\n",
    "    splits,\n",
    "    train_split='train',\n",
    "    test_split='dev',\n",
    "    featurizers=[directional_bag_of_words_featurizer],\n",
    "    model_factory=model_factory,\n",
    "    verbose=True)\n"
   ]
  },
  {
   "cell_type": "code",
   "execution_count": 20,
   "metadata": {},
   "outputs": [],
   "source": [
    "def test_directional_bag_of_words_featurizer(corpus):\n",
    "    from collections import defaultdict\n",
    "    kbt = rel_ext.KBTriple(rel='worked_at', sbj='Randall_Munroe', obj='xkcd')\n",
    "    feature_counter = defaultdict(int)\n",
    "    # Make sure `feature_counter` is being updated, not reinitialized:\n",
    "    feature_counter['is_OS'] += 5\n",
    "    feature_counter = directional_bag_of_words_featurizer(kbt, corpus, feature_counter)\n",
    "    expected = defaultdict(\n",
    "        int, {'is_OS':6,'a_OS':1,'webcomic_OS':1,'created_OS':1,'by_OS':1})\n",
    "    assert feature_counter == expected, \\\n",
    "        \"Expected:\\n{}\\nGot:\\n{}\".format(expected, feature_counter)"
   ]
  },
  {
   "cell_type": "markdown",
   "metadata": {},
   "source": [
    "### The part-of-speech tags of the \"middle\" words [1.5 points]\n",
    "\n",
    "Our corpus distribution contains part-of-speech (POS) tagged versions of the core text spans. Let's begin to explore whether there is information in these sequences, focusing on `middle_POS`.\n",
    "\n",
    "__To submit:__\n",
    "\n",
    "1. A feature function `middle_bigram_pos_tag_featurizer` that is just like `simple_bag_of_words_featurizer` except that it creates a feature for bigram POS sequences. For example, given \n",
    "\n",
    "  `The/DT dog/N napped/V`\n",
    "  \n",
    "   we obtain the list of bigram POS sequences\n",
    "  \n",
    "   `b = ['<s> DT', 'DT N', 'N V', 'V </s>']`. \n",
    "   \n",
    "   Of course, `middle_bigram_pos_tag_featurizer` should return count dictionaries defined in terms of such bigram POS lists, on the model of `simple_bag_of_words_featurizer`.  Don't forget the start and end tags, to model those environments properly! The included function `test_middle_bigram_pos_tag_featurizer` should help verify that you've done this correctly.\n",
    "\n",
    "2. A call to `rel_ext.experiment` with `middle_bigram_pos_tag_featurizer` as the only featurizer. (Aside from this, use all the default values for `rel_ext.experiment` as exemplified above in this notebook.)"
   ]
  },
  {
   "cell_type": "code",
   "execution_count": 12,
   "metadata": {},
   "outputs": [],
   "source": [
    "def middle_bigram_pos_tag_featurizer(kbt, corpus, feature_counter):\n",
    "    ##### YOUR CODE HERE\n",
    "    for ex in corpus.get_examples_for_entities(kbt.sbj, kbt.obj):\n",
    "        for pos_pair in get_tag_bigrams(ex.middle_POS):\n",
    "            feature_counter[pos_pair] += 1\n",
    "    for ex in corpus.get_examples_for_entities(kbt.obj, kbt.sbj):\n",
    "        for pos_pair in get_tag_bigrams(ex.middle_POS):\n",
    "            feature_counter[pos_pair] += 1\n",
    "    return feature_counter\n",
    "\n",
    "\n",
    "def get_tag_bigrams(s):\n",
    "    \"\"\"Suggested helper method for `middle_bigram_pos_tag_featurizer`.\n",
    "    This should be defined so that it returns a list of str, where each \n",
    "    element is a POS bigram.\"\"\"\n",
    "    # The values of `start_symbol` and `end_symbol` are defined\n",
    "    # here so that you can use `test_middle_bigram_pos_tag_featurizer`.\n",
    "    start_symbol = \"<s>\"\n",
    "    end_symbol = \"</s>\"\n",
    "    ##### YOUR CODE HERE\n",
    "    tags = [start_symbol] + get_tags(s) + [end_symbol]\n",
    "    return [' '.join(item) for item in zip(*[tags[i:] for i in range(2)])]\n",
    "\n",
    "\n",
    "    \n",
    "def get_tags(s): \n",
    "    \"\"\"Given a sequence of word/POS elements (lemmas), this function\n",
    "    returns a list containing just the POS elements, in order.    \n",
    "    \"\"\"\n",
    "    return [parse_lem(lem)[1] for lem in s.strip().split(' ') if lem]\n",
    "\n",
    "\n",
    "def parse_lem(lem):\n",
    "    \"\"\"Helper method for parsing word/POS elements. It just splits\n",
    "    on the rightmost / and returns (word, POS) as a tuple of str.\"\"\"\n",
    "    return lem.strip().rsplit('/', 1)  \n",
    "\n",
    "# Call to `rel_ext.experiment`:\n",
    "##### YOUR CODE HERE\n",
    "pos_bigram_results = rel_ext.experiment(\n",
    "    splits,\n",
    "    train_split='train',\n",
    "    test_split='dev',\n",
    "    featurizers=[middle_bigram_pos_tag_featurizer],\n",
    "    model_factory=model_factory,\n",
    "    verbose=True)\n"
   ]
  },
  {
   "cell_type": "code",
   "execution_count": 25,
   "metadata": {},
   "outputs": [],
   "source": [
    "def test_middle_bigram_pos_tag_featurizer(corpus):\n",
    "    from collections import defaultdict\n",
    "    kbt = rel_ext.KBTriple(rel='worked_at', sbj='Randall_Munroe', obj='xkcd')\n",
    "    feature_counter = defaultdict(int)\n",
    "    # Make sure `feature_counter` is being updated, not reinitialized:\n",
    "    feature_counter['<s> VBZ'] += 5\n",
    "    feature_counter = middle_bigram_pos_tag_featurizer(kbt, corpus, feature_counter)\n",
    "    expected = defaultdict(\n",
    "        int, {'<s> VBZ':6,'VBZ DT':1,'DT JJ':1,'JJ VBN':1,'VBN IN':1,'IN </s>':1})\n",
    "    assert feature_counter == expected, \\\n",
    "        \"Expected:\\n{}\\nGot:\\n{}\".format(expected, feature_counter)"
   ]
  },
  {
   "cell_type": "markdown",
   "metadata": {},
   "source": [
    "### Bag of Synsets [2 points]\n",
    "\n",
    "The following allows you to use NLTK's WordNet API to get the synsets compatible with _dog_ as used as a noun:\n",
    "\n",
    "```\n",
    "from nltk.corpus import wordnet as wn\n",
    "dog = wn.synsets('dog', pos='n')\n",
    "dog\n",
    "[Synset('dog.n.01'),\n",
    " Synset('frump.n.01'),\n",
    " Synset('dog.n.03'),\n",
    " Synset('cad.n.01'),\n",
    " Synset('frank.n.02'),\n",
    " Synset('pawl.n.01'),\n",
    " Synset('andiron.n.01')]\n",
    "```\n",
    "\n",
    "This question asks you to create synset-based features from the word/tag pairs in `middle_POS`.\n",
    "\n",
    "__To submit:__\n",
    "\n",
    "1. A feature function `synset_featurizer` that is just like `simple_bag_of_words_featurizer` except that it returns a list of synsets derived from `middle_POS`. Stringify these objects with `str` so that they can be `dict` keys. Use `convert_tag` (included below) to convert tags to `pos` arguments usable by `wn.synsets`. The included function `test_synset_featurizer` should help verify that you've done this correctly.\n",
    "\n",
    "2. A call to `rel_ext.experiment` with `synset_featurizer` as the only featurizer. (Aside from this, use all the default values for `rel_ext.experiment`.)"
   ]
  },
  {
   "cell_type": "code",
   "execution_count": 13,
   "metadata": {},
   "outputs": [],
   "source": [
    "from nltk.corpus import wordnet as wn\n",
    "\n",
    "def synset_featurizer(kbt, corpus, feature_counter):\n",
    "    ##### YOUR CODE HERE\n",
    "    for ex in corpus.get_examples_for_entities(kbt.sbj, kbt.obj):\n",
    "        for syn in get_synsets(ex.middle_POS):\n",
    "            feature_counter[syn] += 1\n",
    "    for ex in corpus.get_examples_for_entities(kbt.obj, kbt.sbj):\n",
    "        for syn in get_synsets(ex.middle_POS):\n",
    "            feature_counter[syn] += 1\n",
    "    return feature_counter\n",
    "\n",
    "\n",
    "def get_synsets(s):\n",
    "    \"\"\"Suggested helper method for `synset_featurizer`. This should\n",
    "    be completed so that it returns a list of stringified Synsets \n",
    "    associated with elements of `s`.\n",
    "    \"\"\"   \n",
    "    # Use `parse_lem` from the previous question to get a list of\n",
    "    # (word, POS) pairs. Remember to convert the POS strings.\n",
    "    wt = [parse_lem(lem) for lem in s.strip().split(' ') if lem]\n",
    "    ##### YOUR CODE HERE\n",
    "    all_syn = [wn.synsets(item[0], pos=convert_tag(item[1])) for item in wt]\n",
    "    return [str(x) for y in all_syn for x in y]\n",
    "\n",
    "    \n",
    "    \n",
    "def convert_tag(t):\n",
    "    \"\"\"Converts tags so that they can be used by WordNet:\n",
    "    \n",
    "    | Tag begins with | WordNet tag |\n",
    "    |-----------------|-------------|\n",
    "    | `N`             | `n`         |\n",
    "    | `V`             | `v`         |\n",
    "    | `J`             | `a`         |\n",
    "    | `R`             | `r`         |\n",
    "    | Otherwise       | `None`      |\n",
    "    \"\"\"        \n",
    "    if t[0].lower() in {'n', 'v', 'r'}:\n",
    "        return t[0].lower()\n",
    "    elif t[0].lower() == 'J':\n",
    "        return 'a'\n",
    "    else:\n",
    "        return None    \n",
    "\n",
    "\n",
    "# Call to `rel_ext.experiment`:\n",
    "##### YOUR CODE HERE    \n",
    "synset_results = rel_ext.experiment(\n",
    "    splits,\n",
    "    train_split='train',\n",
    "    test_split='dev',\n",
    "    featurizers=[synset_featurizer],\n",
    "    model_factory=model_factory,\n",
    "    verbose=True)\n"
   ]
  },
  {
   "cell_type": "code",
   "execution_count": 33,
   "metadata": {},
   "outputs": [],
   "source": [
    "def test_synset_featurizer(corpus):\n",
    "    from collections import defaultdict\n",
    "    kbt = rel_ext.KBTriple(rel='worked_at', sbj='Randall_Munroe', obj='xkcd')\n",
    "    feature_counter = defaultdict(int)\n",
    "    # Make sure `feature_counter` is being updated, not reinitialized:\n",
    "    feature_counter[\"Synset('be.v.01')\"] += 5\n",
    "    feature_counter = synset_featurizer(kbt, corpus, feature_counter)\n",
    "    # The full return values for this tend to be long, so we just\n",
    "    # test a few examples to avoid cluttering up this notebook.\n",
    "    test_cases = {\n",
    "        \"Synset('be.v.01')\": 6,\n",
    "        \"Synset('embody.v.02')\": 1\n",
    "    }\n",
    "    for ss, expected in test_cases.items():   \n",
    "        result = feature_counter[ss]\n",
    "        assert result == expected, \\\n",
    "            \"Incorrect count for {}: Expected {}; Got {}\".format(ss, expected, result)"
   ]
  },
  {
   "cell_type": "markdown",
   "metadata": {},
   "source": [
    "### Your original system [3 points]\n",
    "\n",
    "There are many options, and this could easily grow into a project. Here are a few ideas:\n",
    "\n",
    "- Try out different classifier models, from `sklearn` and elsewhere.\n",
    "- Add a feature that indicates the length of the middle.\n",
    "- Augment the bag-of-words representation to include bigrams or trigrams (not just unigrams).\n",
    "- Introduce features based on the entity mentions themselves. <!-- \\[SPOILER: it helps a lot, maybe 4% in F-score. And combines nicely with the directional features.\\] -->\n",
    "- Experiment with features based on the context outside (rather than between) the two entity mentions — that is, the words before the first mention, or after the second.\n",
    "- Try adding features which capture syntactic information, such as the dependency-path features used by Mintz et al. 2009. The [NLTK](https://www.nltk.org/) toolkit contains a variety of [parsing algorithms](http://www.nltk.org/api/nltk.parse.html) that may help.\n",
    "- The bag-of-words representation does not permit generalization across word categories such as names of people, places, or companies. Can we do better using word embeddings such as [GloVe](https://nlp.stanford.edu/projects/glove/)?\n",
    "\n",
    "In the cell below, please provide a brief technical description of your original system, so that the teaching team can gain an understanding of what it does. This will help us to understand your code and analyze all the submissions to identify patterns and strategies."
   ]
  },
  {
   "cell_type": "code",
   "execution_count": null,
   "metadata": {},
   "outputs": [],
   "source": [
    "# Enter your system description in this cell.\n",
    "# Please do not remove this comment.\n",
    "\n",
    "# Combine unigram(middel, left and right), directinal BoW, bigram POS and length of the middle features together"
   ]
  },
  {
   "cell_type": "code",
   "execution_count": 14,
   "metadata": {},
   "outputs": [
    {
     "name": "stderr",
     "output_type": "stream",
     "text": "/Users/licor/opt/anaconda3/envs/nlu/lib/python3.7/site-packages/sklearn/svm/base.py:929: ConvergenceWarning: Liblinear failed to converge, increase the number of iterations.\n  \"the number of iterations.\", ConvergenceWarning)\nrelation              precision     recall    f-score    support       size\n------------------    ---------  ---------  ---------  ---------  ---------\nadjoins                   0.888      0.488      0.763        340       5716\nauthor                    0.859      0.790      0.844        509       5885\ncapital                   0.541      0.347      0.487         95       5471\ncontains                  0.848      0.821      0.843       3904       9280\nfilm_performance          0.836      0.740      0.815        766       6142\nfounders                  0.851      0.558      0.770        380       5756\ngenre                     0.684      0.306      0.549        170       5546\nhas_sibling               0.870      0.711      0.833        499       5875\nhas_spouse                0.837      0.648      0.791        594       5970\nis_a                      0.799      0.561      0.737        497       5873\nnationality               0.736      0.648      0.716        301       5677\nparents                   0.842      0.737      0.819        312       5688\nplace_of_birth            0.740      0.489      0.671        233       5609\nplace_of_death            0.703      0.447      0.631        159       5535\nprofession                0.784      0.514      0.709        247       5623\nworked_at                 0.771      0.335      0.612        242       5618\n------------------    ---------  ---------  ---------  ---------  ---------\nmacro-average             0.787      0.571      0.724       9248      95264\n"
    }
   ],
   "source": [
    "def left_bag_of_words_featurizer(kbt, corpus, feature_counter):\n",
    "    for ex in corpus.get_examples_for_entities(kbt.sbj, kbt.obj):\n",
    "        for word in ex.left.split(' '):\n",
    "            feature_counter[word] += 1\n",
    "    for ex in corpus.get_examples_for_entities(kbt.obj, kbt.sbj):\n",
    "        for word in ex.left.split(' '):\n",
    "            feature_counter[word] += 1\n",
    "    return feature_counter\n",
    "\n",
    "def right_bag_of_words_featurizer(kbt, corpus, feature_counter):\n",
    "    for ex in corpus.get_examples_for_entities(kbt.sbj, kbt.obj):\n",
    "        for word in ex.right.split(' '):\n",
    "            feature_counter[word] += 1\n",
    "    for ex in corpus.get_examples_for_entities(kbt.obj, kbt.sbj):\n",
    "        for word in ex.right.split(' '):\n",
    "            feature_counter[word] += 1\n",
    "    return feature_counter\n",
    "\n",
    "def middle_length_featurizer(kbt, corpus, feature_counter):\n",
    "    for ex in corpus.get_examples_for_entities(kbt.sbj, kbt.obj):\n",
    "        feature_counter['LENGTH_S_O'] = len(ex.middle.split(' '))\n",
    "    for ex in corpus.get_examples_for_entities(kbt.obj, kbt.sbj):\n",
    "        feature_counter['LENGTH_O_S'] = len(ex.middle.split(' '))\n",
    "    return feature_counter\n",
    "\n",
    "my_results = rel_ext.experiment(\n",
    "    splits,\n",
    "    train_split='train',\n",
    "    test_split='dev',\n",
    "    featurizers=[simple_bag_of_words_featurizer,\n",
    "                directional_bag_of_words_featurizer,\n",
    "                middle_bigram_pos_tag_featurizer,\n",
    "                left_bag_of_words_featurizer,\n",
    "                right_bag_of_words_featurizer,\n",
    "                middle_length_featurizer],\n",
    "    model_factory=model_factory,\n",
    "    verbose=True)"
   ]
  },
  {
   "cell_type": "markdown",
   "metadata": {},
   "source": [
    "## Bake-off [1 point]\n",
    "\n",
    "For the bake-off, we will release a test set. The announcement will go out on the discussion forum. You will evaluate your custom model from the previous question on these new datasets using the function `rel_ext.bake_off_experiment`. Rules:\n",
    "\n",
    "1. Only one evaluation is permitted.\n",
    "1. No additional system tuning is permitted once the bake-off has started.\n",
    "\n",
    "The cells below this one constitute your bake-off entry.\n",
    "\n",
    "People who enter will receive the additional homework point, and people whose systems achieve the top score will receive an additional 0.5 points. We will test the top-performing systems ourselves, and only systems for which we can reproduce the reported results will win the extra 0.5 points.\n",
    "\n",
    "Late entries will be accepted, but they cannot earn the extra 0.5 points. Similarly, you cannot win the bake-off unless your homework is submitted on time.\n",
    "\n",
    "The announcement will include the details on where to submit your entry."
   ]
  },
  {
   "cell_type": "code",
   "execution_count": null,
   "metadata": {},
   "outputs": [],
   "source": [
    "# Enter your bake-off assessment code in this cell. \n",
    "# Please do not remove this comment.\n",
    "##### YOUR CODE HERE\n",
    "\n",
    "\n"
   ]
  },
  {
   "cell_type": "code",
   "execution_count": null,
   "metadata": {},
   "outputs": [],
   "source": [
    "# On an otherwise blank line in this cell, please enter\n",
    "# your macro-average f-score (an F_0.5 score) as reported \n",
    "# by the code above. Please enter only a number between \n",
    "# 0 and 1 inclusive. Please do not remove this comment.\n",
    "\n"
   ]
  }
 ],
 "metadata": {
  "kernelspec": {
   "display_name": "Python 3",
   "language": "python",
   "name": "python3"
  },
  "language_info": {
   "codemirror_mode": {
    "name": "ipython",
    "version": 3
   },
   "file_extension": ".py",
   "mimetype": "text/x-python",
   "name": "python",
   "nbconvert_exporter": "python",
   "pygments_lexer": "ipython3",
   "version": "3.7.1"
  },
  "widgets": {
   "state": {},
   "version": "1.1.2"
  }
 },
 "nbformat": 4,
 "nbformat_minor": 2
}